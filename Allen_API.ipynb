{
 "cells": [
  {
   "cell_type": "code",
   "execution_count": 1,
   "id": "ee20713c",
   "metadata": {},
   "outputs": [],
   "source": [
    "import os\n",
    "from allensdk.core.reference_space_cache import ReferenceSpaceCache\n",
    "from allensdk.core.structure_tree import StructureTree\n",
    "from allensdk.core.mouse_connectivity_cache import MouseConnectivityCache\n"
   ]
  },
  {
   "cell_type": "code",
   "execution_count": 2,
   "id": "67ee1daf",
   "metadata": {},
   "outputs": [],
   "source": [
    "# todo:\n",
    "#   - figure out region ids\n",
    "\n",
    "resolution = 25     # in microns (um), connectivity data is 25um\n",
    "manifest = 'manifest.json'  # log of downloaded files\n",
    "space = 'annotation/ccf_2017'   # which version of data to use, 2017 is CCFv3\n",
    "meshFolder = 'Region_Mesh/Raw'     # folder for storing all region meshes\n",
    "voxelFolder = 'Region_Mesh/Voxel'\n",
    "\n"
   ]
  },
  {
   "cell_type": "code",
   "execution_count": 3,
   "id": "3f7b38b3",
   "metadata": {},
   "outputs": [
    {
     "name": "stderr",
     "output_type": "stream",
     "text": [
      "2025-10-24 13:34:58,377 allensdk.api.api.retrieve_file_over_http INFO     Downloading URL: http://download.alleninstitute.org/informatics-archive/current-release/mouse_ccf/annotation/ccf_2017/annotation_25.nrrd\n"
     ]
    }
   ],
   "source": [
    "# ===================================\n",
    "\n",
    "\n",
    "rspc = ReferenceSpaceCache(\n",
    "    resolution = resolution,\n",
    "    reference_space_key = space,\n",
    "    maifest = manifest\n",
    ")\n",
    "\n",
    "# i dont think i need this\n",
    "msc = MouseConnectivityCache(\n",
    "    resolution = resolution\n",
    ")\n",
    "\n",
    "annot, info = rspc.get_annotation_volume(file_name='test.t')\n"
   ]
  },
  {
   "cell_type": "code",
   "execution_count": 10,
   "id": "876fe98d",
   "metadata": {},
   "outputs": [
    {
     "name": "stderr",
     "output_type": "stream",
     "text": [
      "2025-10-24 14:01:36,788 allensdk.api.api.retrieve_file_over_http INFO     Downloading URL: http://download.alleninstitute.org/informatics-archive/current-release/mouse_ccf/annotation/ccf_2017/structure_meshes/184.obj\n"
     ]
    },
    {
     "name": "stdout",
     "output_type": "stream",
     "text": [
      "(array([[2002.75, 2898.53, 3887.52],\n",
      "       [1958.11, 2951.16, 3888.28],\n",
      "       [2025.82, 2983.48, 3897.53],\n",
      "       ...,\n",
      "       [2012.8 , 3005.66, 7478.34],\n",
      "       [1969.46, 2965.81, 7477.27],\n",
      "       [2005.03, 2941.93, 7480.47]]), array([[ 0.0245006 , -0.0847159 , -0.996104  ],\n",
      "       [-0.325263  ,  0.105214  , -0.939752  ],\n",
      "       [ 0.0700202 ,  0.185872  , -0.980076  ],\n",
      "       ...,\n",
      "       [-0.0766654 ,  0.208423  ,  0.975029  ],\n",
      "       [-0.23732   ,  0.0314354 ,  0.970923  ],\n",
      "       [-0.179684  , -0.00532885,  0.98371   ]]), array([[   0,    1,    2],\n",
      "       [   3,    4,    5],\n",
      "       [   6,    5,    4],\n",
      "       ...,\n",
      "       [1133, 1136, 1130],\n",
      "       [1137, 1135, 1136],\n",
      "       [1134, 1135, 1137]]), array([[   0,    1,    2],\n",
      "       [   3,    4,    5],\n",
      "       [   6,    5,    4],\n",
      "       ...,\n",
      "       [1133, 1136, 1130],\n",
      "       [1137, 1135, 1136],\n",
      "       [1134, 1135, 1137]]))\n"
     ]
    }
   ],
   "source": [
    "\n",
    "\n",
    "\n",
    "\n",
    "\n",
    "# ============================================\n",
    "# load smoothed meshes or voxels\n",
    "smooth = True\n",
    "# download new files\n",
    "download = False\n",
    "\n",
    "mesh = rspc.get_structure_mesh(184, f'{meshFolder}/{184}.obj')\n",
    "print(mesh)\n",
    "\n",
    "# ============================================"
   ]
  },
  {
   "cell_type": "code",
   "execution_count": null,
   "id": "e2b0d257",
   "metadata": {},
   "outputs": [],
   "source": [
    "\n",
    "if download == True:\n",
    "    # failed downloads\n",
    "    failedDownloads = 0\n",
    "\n",
    "    # download 3d meshes of the regions\n",
    "    # this should skip if files already exist\n",
    "    for id in isoChildren[0]:\n",
    "        # if f'{id}.obj' not in os.listdir(f'{meshFolder}/'):\n",
    "            try:\n",
    "                if smooth is True:\n",
    "                    mesh = rspc.get_structure_mesh(id, f'{meshFolder}/{id}.obj', )\n",
    "                else:\n",
    "                    voxel = rspc.get_structure_mask(id, f'{voxelFolder}/{id}.nrrd')\n",
    "            except:\n",
    "                failedDownloads += 1\n",
    "\n",
    "    print(f'Failed downloads: {failedDownloads}')\n",
    "\n",
    "\n",
    "\n"
   ]
  },
  {
   "cell_type": "markdown",
   "id": "23eb3208",
   "metadata": {},
   "source": [
    "isoChildren are ids, see https://allensdk.readthedocs.io/en/latest/allensdk.core.simple_tree.html#allensdk.core.simple_tree.SimpleTree.descendant_ids for methods\n"
   ]
  },
  {
   "cell_type": "code",
   "execution_count": 6,
   "id": "0e2768f2",
   "metadata": {},
   "outputs": [
    {
     "ename": "KeyError",
     "evalue": "315",
     "output_type": "error",
     "traceback": [
      "\u001b[31m---------------------------------------------------------------------------\u001b[39m",
      "\u001b[31mKeyError\u001b[39m                                  Traceback (most recent call last)",
      "\u001b[36mCell\u001b[39m\u001b[36m \u001b[39m\u001b[32mIn[6]\u001b[39m\u001b[32m, line 8\u001b[39m\n\u001b[32m      5\u001b[39m tree = rspc.get_structure_tree(file_name=\u001b[33m'\u001b[39m\u001b[33mtree.tree\u001b[39m\u001b[33m'\u001b[39m, structure_graph_id=\u001b[32m1\u001b[39m)\n\u001b[32m      7\u001b[39m \u001b[38;5;66;03m# list of ids of isocortex regions\u001b[39;00m\n\u001b[32m----> \u001b[39m\u001b[32m8\u001b[39m isoChildren = \u001b[43mtree\u001b[49m\u001b[43m.\u001b[49m\u001b[43mchild_ids\u001b[49m\u001b[43m(\u001b[49m\u001b[43m[\u001b[49m\u001b[43misocortexId\u001b[49m\u001b[43m]\u001b[49m\u001b[43m)\u001b[49m\n",
      "\u001b[36mFile \u001b[39m\u001b[32mc:\\Users\\pigwi\\miniconda3\\envs\\Stuart-Little\\Lib\\site-packages\\allensdk\\core\\simple_tree.py:224\u001b[39m, in \u001b[36mSimpleTree.child_ids\u001b[39m\u001b[34m(self, node_ids)\u001b[39m\n\u001b[32m    209\u001b[39m \u001b[38;5;28;01mdef\u001b[39;00m\u001b[38;5;250m \u001b[39m\u001b[34mchild_ids\u001b[39m(\u001b[38;5;28mself\u001b[39m, node_ids):\n\u001b[32m    210\u001b[39m \u001b[38;5;250m    \u001b[39m\u001b[33;03m'''Obtain the ids of one or more nodes' children\u001b[39;00m\n\u001b[32m    211\u001b[39m \u001b[33;03m    \u001b[39;00m\n\u001b[32m    212\u001b[39m \u001b[33;03m    Parameters\u001b[39;00m\n\u001b[32m   (...)\u001b[39m\u001b[32m    221\u001b[39m \u001b[33;03m        \u001b[39;00m\n\u001b[32m    222\u001b[39m \u001b[33;03m    '''\u001b[39;00m\n\u001b[32m--> \u001b[39m\u001b[32m224\u001b[39m     \u001b[38;5;28;01mreturn\u001b[39;00m \u001b[43m[\u001b[49m\u001b[43m \u001b[49m\u001b[38;5;28;43mself\u001b[39;49m\u001b[43m.\u001b[49m\u001b[43m_child_ids\u001b[49m\u001b[43m[\u001b[49m\u001b[43mnid\u001b[49m\u001b[43m]\u001b[49m\u001b[43m \u001b[49m\u001b[38;5;28;43;01mfor\u001b[39;49;00m\u001b[43m \u001b[49m\u001b[43mnid\u001b[49m\u001b[43m \u001b[49m\u001b[38;5;129;43;01min\u001b[39;49;00m\u001b[43m \u001b[49m\u001b[43mnode_ids\u001b[49m\u001b[43m \u001b[49m\u001b[43m]\u001b[49m\n",
      "\u001b[36mFile \u001b[39m\u001b[32mc:\\Users\\pigwi\\miniconda3\\envs\\Stuart-Little\\Lib\\site-packages\\allensdk\\core\\simple_tree.py:224\u001b[39m, in \u001b[36m<listcomp>\u001b[39m\u001b[34m(.0)\u001b[39m\n\u001b[32m    209\u001b[39m \u001b[38;5;28;01mdef\u001b[39;00m\u001b[38;5;250m \u001b[39m\u001b[34mchild_ids\u001b[39m(\u001b[38;5;28mself\u001b[39m, node_ids):\n\u001b[32m    210\u001b[39m \u001b[38;5;250m    \u001b[39m\u001b[33;03m'''Obtain the ids of one or more nodes' children\u001b[39;00m\n\u001b[32m    211\u001b[39m \u001b[33;03m    \u001b[39;00m\n\u001b[32m    212\u001b[39m \u001b[33;03m    Parameters\u001b[39;00m\n\u001b[32m   (...)\u001b[39m\u001b[32m    221\u001b[39m \u001b[33;03m        \u001b[39;00m\n\u001b[32m    222\u001b[39m \u001b[33;03m    '''\u001b[39;00m\n\u001b[32m--> \u001b[39m\u001b[32m224\u001b[39m     \u001b[38;5;28;01mreturn\u001b[39;00m [ \u001b[38;5;28;43mself\u001b[39;49m\u001b[43m.\u001b[49m\u001b[43m_child_ids\u001b[49m\u001b[43m[\u001b[49m\u001b[43mnid\u001b[49m\u001b[43m]\u001b[49m \u001b[38;5;28;01mfor\u001b[39;00m nid \u001b[38;5;129;01min\u001b[39;00m node_ids ]\n",
      "\u001b[31mKeyError\u001b[39m: 315"
     ]
    }
   ],
   "source": [
    "# load tree structure of mouse brain regions\n",
    "# ============================================\n",
    "isocortexId = 315     # isocortex id\n",
    "\n",
    "tree = rspc.get_structure_tree(file_name='tree.tree', structure_graph_id=1)\n",
    "\n",
    "# list of ids of isocortex regions\n",
    "isoChildren = tree.child_ids([isocortexId])"
   ]
  },
  {
   "cell_type": "code",
   "execution_count": 31,
   "id": "28a0df2d",
   "metadata": {},
   "outputs": [
    {
     "name": "stdout",
     "output_type": "stream",
     "text": [
      "1\n",
      "[184, 500, 453, 1057, 677, 247, 669, 31, 972, 44, 714, 95, 254, 22, 541, 922, 895]\n",
      "{'acronym': 'MO', 'graph_id': 1, 'graph_order': 12, 'id': 500, 'name': 'Somatomotor areas', 'structure_id_path': [997, 8, 567, 688, 695, 315, 500], 'structure_set_ids': [3, 112905828, 691663206, 12, 184527634, 112905813, 114512891, 114512892], 'rgb_triplet': [31, 157, 90]}\n"
     ]
    }
   ],
   "source": [
    "print(len(isoChildren))\n",
    "print(isoChildren[0])\n",
    "\n",
    "names = []\n",
    "try:\n",
    "    names = tree.nodes(isoChildren[0])\n",
    "except:\n",
    "    pass\n",
    "\n",
    "# big dictionary of regions\n",
    "# print(names)\n",
    "\n",
    "print(names[1])\n",
    "\n",
    "names = [names[i]['acronym'] for i in range(len(names))]\n",
    "\n"
   ]
  },
  {
   "cell_type": "code",
   "execution_count": 29,
   "id": "1c3e7105",
   "metadata": {},
   "outputs": [
    {
     "name": "stdout",
     "output_type": "stream",
     "text": [
      "{184: 'FRP', 500: 'MO', 453: 'SS', 1057: 'GU', 677: 'VISC', 247: 'AUD', 669: 'VIS', 31: 'ACA', 972: 'PL', 44: 'ILA', 714: 'ORB', 95: 'AI', 254: 'RSP', 22: 'PTLp', 541: 'TEa', 922: 'PERI', 895: 'ECT'}\n"
     ]
    }
   ],
   "source": [
    "iso_dict = {i: name for i, name in zip(isoChildren[0], names)}\n",
    "print(iso_dict)"
   ]
  },
  {
   "cell_type": "code",
   "execution_count": null,
   "id": "fc8d2d0a",
   "metadata": {},
   "outputs": [],
   "source": []
  }
 ],
 "metadata": {
  "kernelspec": {
   "display_name": "Stuart-Little",
   "language": "python",
   "name": "python3"
  },
  "language_info": {
   "codemirror_mode": {
    "name": "ipython",
    "version": 3
   },
   "file_extension": ".py",
   "mimetype": "text/x-python",
   "name": "python",
   "nbconvert_exporter": "python",
   "pygments_lexer": "ipython3",
   "version": "3.11.0"
  }
 },
 "nbformat": 4,
 "nbformat_minor": 5
}
