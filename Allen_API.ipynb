{
 "cells": [
  {
   "cell_type": "code",
   "execution_count": 2,
   "id": "ee20713c",
   "metadata": {},
   "outputs": [],
   "source": [
    "import os\n",
    "from allensdk.core.reference_space_cache import ReferenceSpaceCache\n",
    "from allensdk.core.structure_tree import StructureTree\n",
    "from allensdk.core.mouse_connectivity_cache import MouseConnectivityCache\n"
   ]
  },
  {
   "cell_type": "code",
   "execution_count": 3,
   "id": "67ee1daf",
   "metadata": {},
   "outputs": [],
   "source": [
    "# todo:\n",
    "#   - figure out region ids\n",
    "\n",
    "resolution = 25     # in microns (um), connectivity data is 25um\n",
    "manifest = 'manifest.json'  # log of downloaded files\n",
    "space = 'annotation/ccf_2017'   # which version of data to use, 2017 is CCFv3\n",
    "meshFolder = 'Region_Mesh/Raw'     # folder for storing all region meshes\n",
    "voxelFolder = 'Region_Mesh/Voxel'\n",
    "\n"
   ]
  },
  {
   "cell_type": "code",
   "execution_count": 4,
   "id": "3f7b38b3",
   "metadata": {},
   "outputs": [],
   "source": [
    "# ===================================\n",
    "\n",
    "\n",
    "rspc = ReferenceSpaceCache(\n",
    "    resolution = resolution,\n",
    "    reference_space_key = space,\n",
    "    maifest = manifest\n",
    ")\n",
    "\n",
    "# i dont think i need this\n",
    "msc = MouseConnectivityCache(\n",
    "    resolution = resolution\n",
    ")\n",
    "\n",
    "annot, info = rspc.get_annotation_volume(file_name='test.t')\n"
   ]
  },
  {
   "cell_type": "code",
   "execution_count": 5,
   "id": "876fe98d",
   "metadata": {},
   "outputs": [],
   "source": [
    "\n",
    "\n",
    "\n",
    "\n",
    "\n",
    "# ============================================\n",
    "# load smoothed meshes or voxels\n",
    "smooth = True\n",
    "# download new files\n",
    "download = False\n",
    "\n",
    "\n",
    "\n",
    "# ============================================"
   ]
  },
  {
   "cell_type": "code",
   "execution_count": 6,
   "id": "e2b0d257",
   "metadata": {},
   "outputs": [],
   "source": [
    "\n",
    "if download == True:\n",
    "    # failed downloads\n",
    "    failedDownloads = 0\n",
    "\n",
    "    # download 3d meshes of the regions\n",
    "    # this should skip if files already exist\n",
    "    for id in isoChildren[0]:\n",
    "        # if f'{id}.obj' not in os.listdir(f'{meshFolder}/'):\n",
    "            try:\n",
    "                if smooth is True:\n",
    "                    mesh = rspc.get_structure_mesh(id, f'{meshFolder}/{id}.obj', )\n",
    "                else:\n",
    "                    voxel = rspc.get_structure_mask(id, f'{voxelFolder}/{id}.nrrd')\n",
    "            except:\n",
    "                failedDownloads += 1\n",
    "                \n",
    "    print(f'Failed downloads: {failedDownloads}')\n",
    "\n",
    "\n",
    "\n"
   ]
  },
  {
   "cell_type": "markdown",
   "id": "23eb3208",
   "metadata": {},
   "source": [
    "isoChildren are ids, see https://allensdk.readthedocs.io/en/latest/allensdk.core.simple_tree.html#allensdk.core.simple_tree.SimpleTree.descendant_ids for methods\n"
   ]
  },
  {
   "cell_type": "code",
   "execution_count": 23,
   "id": "0e2768f2",
   "metadata": {},
   "outputs": [],
   "source": [
    "# load tree structure of mouse brain regions\n",
    "# ============================================\n",
    "isocortexId = 315     # isocortex id\n",
    "\n",
    "tree = rspc.get_structure_tree(file_name='tree.tree', structure_graph_id=isocortexId)\n",
    "\n",
    "# list of ids of isocortex regions\n",
    "isoChildren = tree.child_ids([isocortexId])"
   ]
  },
  {
   "cell_type": "code",
   "execution_count": 31,
   "id": "28a0df2d",
   "metadata": {},
   "outputs": [
    {
     "name": "stdout",
     "output_type": "stream",
     "text": [
      "1\n",
      "[184, 500, 453, 1057, 677, 247, 669, 31, 972, 44, 714, 95, 254, 22, 541, 922, 895]\n",
      "{'acronym': 'MO', 'graph_id': 1, 'graph_order': 12, 'id': 500, 'name': 'Somatomotor areas', 'structure_id_path': [997, 8, 567, 688, 695, 315, 500], 'structure_set_ids': [3, 112905828, 691663206, 12, 184527634, 112905813, 114512891, 114512892], 'rgb_triplet': [31, 157, 90]}\n"
     ]
    }
   ],
   "source": [
    "print(len(isoChildren))\n",
    "print(isoChildren[0])\n",
    "\n",
    "names = []\n",
    "try:\n",
    "    names = tree.nodes(isoChildren[0])\n",
    "except:\n",
    "    pass\n",
    "\n",
    "# big dictionary of regions\n",
    "# print(names)\n",
    "\n",
    "print(names[1])\n",
    "\n",
    "names = [names[i]['acronym'] for i in range(len(names))]\n",
    "\n"
   ]
  },
  {
   "cell_type": "code",
   "execution_count": 29,
   "id": "1c3e7105",
   "metadata": {},
   "outputs": [
    {
     "name": "stdout",
     "output_type": "stream",
     "text": [
      "{184: 'FRP', 500: 'MO', 453: 'SS', 1057: 'GU', 677: 'VISC', 247: 'AUD', 669: 'VIS', 31: 'ACA', 972: 'PL', 44: 'ILA', 714: 'ORB', 95: 'AI', 254: 'RSP', 22: 'PTLp', 541: 'TEa', 922: 'PERI', 895: 'ECT'}\n"
     ]
    }
   ],
   "source": [
    "iso_dict = {i: name for i, name in zip(isoChildren[0], names)}\n",
    "print(iso_dict)"
   ]
  },
  {
   "cell_type": "code",
   "execution_count": null,
   "id": "fc8d2d0a",
   "metadata": {},
   "outputs": [],
   "source": []
  }
 ],
 "metadata": {
  "kernelspec": {
   "display_name": "Stuart-Little",
   "language": "python",
   "name": "python3"
  },
  "language_info": {
   "codemirror_mode": {
    "name": "ipython",
    "version": 3
   },
   "file_extension": ".py",
   "mimetype": "text/x-python",
   "name": "python",
   "nbconvert_exporter": "python",
   "pygments_lexer": "ipython3",
   "version": "3.11.13"
  }
 },
 "nbformat": 4,
 "nbformat_minor": 5
}
