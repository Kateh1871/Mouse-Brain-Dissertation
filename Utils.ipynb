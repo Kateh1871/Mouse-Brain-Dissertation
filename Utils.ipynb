{
 "cells": [
  {
   "cell_type": "code",
   "execution_count": 1,
   "id": "958ef9d2",
   "metadata": {},
   "outputs": [],
   "source": [
    "# import sys\n",
    "# Remove the Jupyter -f argument that confuses Trame\n",
    "# sys.argv = [arg for arg in sys.argv if not arg.startswith('-f')]\n"
   ]
  },
  {
   "cell_type": "code",
   "execution_count": 2,
   "id": "3a9c86f0",
   "metadata": {},
   "outputs": [],
   "source": [
    "import os\n",
    "import nibabel as nib\n",
    "import trimesh\n",
    "import numpy as np\n",
    "import pyvista as pv\n",
    "import matplotlib.pyplot as plt\n",
    "import API as allen\n",
    "\n",
    "from statistics import mean\n"
   ]
  },
  {
   "cell_type": "code",
   "execution_count": 3,
   "id": "28ad63bd",
   "metadata": {},
   "outputs": [],
   "source": [
    "# pv.set_jupyter_backend('none')\n"
   ]
  },
  {
   "cell_type": "code",
   "execution_count": 4,
   "id": "520d47b9",
   "metadata": {},
   "outputs": [],
   "source": [
    "def Obj_Gifti(loadFolder: str = 'Raw',\n",
    "                saveFolder: str = 'Gii'\n",
    "              ):\n",
    "    # converts raw meshes from allen api from .obj to .gii types\n",
    "    # targets main/Region_Mesh/Raw \n",
    "\n",
    "    meshFolder = 'Region_Mesh'  # all meshes\n",
    "    rawMesh = os.listdir(f'{meshFolder}/{loadFolder}/')  # list of raw mesh files\n",
    "    giiFolder = f'./{meshFolder}/{saveFolder}'     # save location\n",
    "\n",
    "\n",
    "    # make Gii subfolder if doesn't exist\n",
    "    meshTypes = os.listdir(meshFolder)\n",
    "    if 'Gii' not in meshTypes:\n",
    "        os.mkdir(f'{meshFolder}/Gii')\n",
    "\n",
    "\n",
    "    for meshFile in rawMesh:\n",
    "        mesh = trimesh.load(f'./{meshFolder}/Raw/{meshFile}')\n",
    "\n",
    "        # split out vertices\n",
    "        giiVertices = nib.gifti.GiftiDataArray(data=mesh.vertices.astype(np.float32),\n",
    "                                               intent='NIFTI_INTENT_POINTSET')\n",
    "        \n",
    "        # split out triangle faces\n",
    "        # print(mesh.faces.astype(np.float32))\n",
    "        giiFaces = nib.gifti.GiftiDataArray(data=mesh.faces.astype(np.float32),\n",
    "                                            intent='NIFTI_INTENT_POINTSET')\n",
    "\n",
    "        # merge into single gifti image \n",
    "        giiImg = nib.gifti.GiftiImage(darrays=[giiVertices, giiFaces])\n",
    "    \n",
    "        # print(f'{giiFolder}/{meshFile[:-4]}.gii')\n",
    "\n",
    "        nib.save(giiImg, f'{giiFolder}/{meshFile[:-4]}.gii')"
   ]
  },
  {
   "cell_type": "code",
   "execution_count": 5,
   "id": "3b2c3c7f",
   "metadata": {},
   "outputs": [],
   "source": [
    "def Open_Gifti(node: int = None,\n",
    "               filePath: str = None\n",
    "               ):\n",
    "    \n",
    "    # requires one of node or filePath\n",
    "    if node is not None:\n",
    "        file = nib.load(f'Region_Mesh/Gii/{node}.gii')\n",
    "    \n",
    "    if filePath is not None:\n",
    "        file = nib.load(filePath)\n",
    "\n",
    "    return file"
   ]
  },
  {
   "cell_type": "code",
   "execution_count": 6,
   "id": "f446242e",
   "metadata": {},
   "outputs": [],
   "source": [
    "def Open_Raw(node: int,\n",
    "             transform = True,\n",
    "             rotation: float = np.pi\n",
    "             ):\n",
    "    \n",
    "    \"\"\"\n",
    "    node : id of region to open\n",
    "    transform : transform the mesh so that the centroid of the cortex is at [0, 0, 0] and camera can be reset to the preferred view\n",
    "\n",
    "    returns: trimesh object\n",
    "\n",
    "    opens raw .obj file from Allen Institute, easier to work with in pymesh than a gifti\n",
    "    \"\"\"\n",
    "\n",
    "    path = f'./Region_Mesh/Raw/{node}.obj'\n",
    "\n",
    "    if not os.path.exists(path):\n",
    "        allen.Download_Mesh(node)\n",
    "        \n",
    "    file = trimesh.load(path)\n",
    "\n",
    "\n",
    "    if transform is True:\n",
    "        # centroid of isocortex\n",
    "        translation = -1 * np.asarray([5815.30949447, 501.96668849, 5692.50297221])\n",
    "        # rotation origin and amount\n",
    "        rotation = trimesh.transformations.rotation_matrix(1*rotation, [0, 1, 0], [0, 0, 0])\n",
    "        # scale factor\n",
    "        scale = np.eye(4)\n",
    "\n",
    "        file.apply_translation(translation)\n",
    "        # file.apply_transform(rotation)\n",
    "\n",
    "\n",
    "\n",
    "    return file"
   ]
  },
  {
   "cell_type": "code",
   "execution_count": 7,
   "id": "478ea149",
   "metadata": {},
   "outputs": [],
   "source": [
    "def Hemisphere_Filter(region: int = None,\n",
    "                      mesh: trimesh.Trimesh = None,\n",
    "                      hemisphere: str = 'left'):\n",
    "    \"\"\"\n",
    "    Filters meshes to only single side of brain\n",
    "    at leat one of id and mesh should be provided\n",
    "\n",
    "    region: id of brain region, if provided loads from file\n",
    "    mesh: Trimesh object of region\n",
    "    hemisphere: which side of brain to keep, should be either 'left' or 'right\n",
    "    \"\"\"\n",
    "\n",
    "    if region is not None:\n",
    "        mesh = Open_Raw(region)\n",
    "    elif mesh is None:\n",
    "        print('Neither region id or mesh provided')\n",
    "        return None\n",
    "    \n",
    "\n",
    "    mesh_bodies_temp = []\n",
    "    mesh_bodies = mesh.split()\n",
    "    for mesh in mesh_bodies:\n",
    "        # left side has -ve coords\n",
    "        if hemisphere == 'left' and mesh.center_mass[2] < 0:\n",
    "            mesh_bodies_temp.append(mesh)\n",
    "\n",
    "        if hemisphere == 'right' and mesh.center_mass[2] > 0:\n",
    "            mesh_bodies_temp.append(mesh)\n",
    "\n",
    "        if mesh.center_mass[2] == 0:\n",
    "            print(f'mesh has centroid at z: 0, unable to decide hemisphere')\n",
    "    \n",
    "    mesh_new = trimesh.util.concatenate(mesh_bodies_temp)\n",
    "\n",
    "    return mesh_new\n",
    "    "
   ]
  },
  {
   "cell_type": "code",
   "execution_count": 11,
   "id": "01a095eb",
   "metadata": {},
   "outputs": [
    {
     "name": "stdout",
     "output_type": "stream",
     "text": [
      "<allensdk.core.structure_tree.StructureTree object at 0x000001DCB1BBD510>\n",
      "{'acronym': 'FRP', 'graph_id': 1, 'graph_order': 6, 'id': 184, 'name': 'Frontal pole, cerebral cortex', 'structure_id_path': [997, 8, 567, 688, 695, 315, 184], 'structure_set_ids': [3, 112905828, 688152357, 691663206, 687527945, 12, 184527634, 167587189, 112905813, 114512891], 'rgb_triplet': [38, 143, 69]}\n"
     ]
    },
    {
     "data": {
      "application/vnd.jupyter.widget-view+json": {
       "model_id": "44280f6875764b41ba84b830e4098364",
       "version_major": 2,
       "version_minor": 0
      },
      "text/plain": [
       "Widget(value='<iframe src=\"http://localhost:59114/index.html?ui=P_0x1dc99e87390_2&reconnect=auto\" class=\"pyvis…"
      ]
     },
     "metadata": {},
     "output_type": "display_data"
    }
   ],
   "source": [
    "# plot child regions of isocortex\n",
    "tree = allen.Reference_Tree()\n",
    "print(tree)\n",
    "child_regions = tree.children([315])[0]\n",
    "plotter = pv.Plotter()\n",
    "\n",
    "print(child_regions[0])\n",
    "\n",
    "for child in child_regions:\n",
    "    # mesh = Hemisphere_Filter(child['id'])\n",
    "    mesh = Hemisphere_Filter(child['id'], hemisphere='left')\n",
    "\n",
    "    plotter.add_mesh(mesh, color=child['rgb_triplet'], label=child['name'])\n",
    "\n",
    "\n",
    "\n",
    "plotter.add_legend(size=(0.5, 0.5), loc='lower left')\n",
    "plotter.view_vector((0, 0, -1), viewup=(0, -1, 0))\n",
    "plotter.show_grid()\n",
    "plotter.show()"
   ]
  },
  {
   "cell_type": "code",
   "execution_count": null,
   "id": "48298303",
   "metadata": {},
   "outputs": [],
   "source": []
  },
  {
   "cell_type": "code",
   "execution_count": 9,
   "id": "f892783a",
   "metadata": {},
   "outputs": [
    {
     "name": "stdout",
     "output_type": "stream",
     "text": [
      "[[0.89411765 0.10196078 0.10980392 1.        ]\n",
      " [0.30196078 0.68627451 0.29019608 1.        ]\n",
      " [1.         0.49803922 0.         1.        ]\n",
      " [0.65098039 0.3372549  0.15686275 1.        ]\n",
      " [0.6        0.6        0.6        1.        ]]\n"
     ]
    },
    {
     "data": {
      "application/vnd.jupyter.widget-view+json": {
       "model_id": "f7da010ba6a64b908c095b96c908f9c7",
       "version_major": 2,
       "version_minor": 0
      },
      "text/plain": [
       "Widget(value='<iframe src=\"http://localhost:59114/index.html?ui=P_0x1dc9b1e4c90_1&reconnect=auto\" class=\"pyvis…"
      ]
     },
     "metadata": {},
     "output_type": "display_data"
    }
   ],
   "source": [
    "# plotting frontal pole of cerebral cortex\n",
    "# region ids\n",
    "FRP = [ 68, 667, 526157192, 526157196, 526322264]\n",
    "\n",
    "# colour map\n",
    "colors = plt.cm.Set1(np.linspace(0, 1, len(FRP)))\n",
    "print(colors)\n",
    "plotter = pv.Plotter()\n",
    "\n",
    "for c, region in enumerate(FRP):\n",
    "    mesh = Hemisphere_Filter(region, hemisphere='left')\n",
    "\n",
    "    plotter.add_mesh(mesh, color=colors[c])\n",
    "\n",
    "plotter.show()\n"
   ]
  },
  {
   "cell_type": "code",
   "execution_count": 10,
   "id": "61877d8c",
   "metadata": {},
   "outputs": [
    {
     "ename": "ModuleNotFoundError",
     "evalue": "No module named 'shapely'",
     "output_type": "error",
     "traceback": [
      "\u001b[31m---------------------------------------------------------------------------\u001b[39m",
      "\u001b[31mModuleNotFoundError\u001b[39m                       Traceback (most recent call last)",
      "\u001b[36mCell\u001b[39m\u001b[36m \u001b[39m\u001b[32mIn[10]\u001b[39m\u001b[32m, line 3\u001b[39m\n\u001b[32m      1\u001b[39m mesh = Open_Raw(\u001b[32m315\u001b[39m)\n\u001b[32m----> \u001b[39m\u001b[32m3\u001b[39m mesh = \u001b[43mmesh\u001b[49m\u001b[43m.\u001b[49m\u001b[43mslice_plane\u001b[49m\u001b[43m(\u001b[49m\u001b[43mnp\u001b[49m\u001b[43m.\u001b[49m\u001b[43marray\u001b[49m\u001b[43m(\u001b[49m\u001b[43m[\u001b[49m\u001b[32;43m0\u001b[39;49m\u001b[43m,\u001b[49m\u001b[43m \u001b[49m\u001b[32;43m0\u001b[39;49m\u001b[43m,\u001b[49m\u001b[43m \u001b[49m\u001b[32;43m0\u001b[39;49m\u001b[43m]\u001b[49m\u001b[43m)\u001b[49m\u001b[43m,\u001b[49m\u001b[43m \u001b[49m\u001b[43mnp\u001b[49m\u001b[43m.\u001b[49m\u001b[43marray\u001b[49m\u001b[43m(\u001b[49m\u001b[43m[\u001b[49m\u001b[32;43m0\u001b[39;49m\u001b[43m,\u001b[49m\u001b[43m \u001b[49m\u001b[32;43m0\u001b[39;49m\u001b[43m,\u001b[49m\u001b[43m \u001b[49m\u001b[32;43m1\u001b[39;49m\u001b[43m]\u001b[49m\u001b[43m)\u001b[49m\u001b[43m,\u001b[49m\u001b[43m \u001b[49m\u001b[43mcap\u001b[49m\u001b[43m=\u001b[49m\u001b[38;5;28;43;01mTrue\u001b[39;49;00m\u001b[43m)\u001b[49m\n\u001b[32m      5\u001b[39m mesh.show()\n",
      "\u001b[36mFile \u001b[39m\u001b[32mc:\\Users\\pigwi\\miniconda3\\envs\\Stuart-Little\\Lib\\site-packages\\trimesh\\base.py:2367\u001b[39m, in \u001b[36mTrimesh.slice_plane\u001b[39m\u001b[34m(self, plane_origin, plane_normal, cap, face_index, **kwargs)\u001b[39m\n\u001b[32m   2345\u001b[39m \u001b[38;5;250m\u001b[39m\u001b[33;03m\"\"\"\u001b[39;00m\n\u001b[32m   2346\u001b[39m \u001b[33;03mSlice the mesh with a plane, returning a new mesh that is the\u001b[39;00m\n\u001b[32m   2347\u001b[39m \u001b[33;03mportion of the original mesh to the positive normal side of the plane\u001b[39;00m\n\u001b[32m   (...)\u001b[39m\u001b[32m   2363\u001b[39m \u001b[33;03m  to the positive normal side of the plane\u001b[39;00m\n\u001b[32m   2364\u001b[39m \u001b[33;03m\"\"\"\u001b[39;00m\n\u001b[32m   2366\u001b[39m \u001b[38;5;66;03m# return a new mesh\u001b[39;00m\n\u001b[32m-> \u001b[39m\u001b[32m2367\u001b[39m new_mesh = \u001b[43mintersections\u001b[49m\u001b[43m.\u001b[49m\u001b[43mslice_mesh_plane\u001b[49m\u001b[43m(\u001b[49m\n\u001b[32m   2368\u001b[39m \u001b[43m    \u001b[49m\u001b[43mmesh\u001b[49m\u001b[43m=\u001b[49m\u001b[38;5;28;43mself\u001b[39;49m\u001b[43m,\u001b[49m\n\u001b[32m   2369\u001b[39m \u001b[43m    \u001b[49m\u001b[43mplane_normal\u001b[49m\u001b[43m=\u001b[49m\u001b[43mplane_normal\u001b[49m\u001b[43m,\u001b[49m\n\u001b[32m   2370\u001b[39m \u001b[43m    \u001b[49m\u001b[43mplane_origin\u001b[49m\u001b[43m=\u001b[49m\u001b[43mplane_origin\u001b[49m\u001b[43m,\u001b[49m\n\u001b[32m   2371\u001b[39m \u001b[43m    \u001b[49m\u001b[43mcap\u001b[49m\u001b[43m=\u001b[49m\u001b[43mcap\u001b[49m\u001b[43m,\u001b[49m\n\u001b[32m   2372\u001b[39m \u001b[43m    \u001b[49m\u001b[43mface_index\u001b[49m\u001b[43m=\u001b[49m\u001b[43mface_index\u001b[49m\u001b[43m,\u001b[49m\n\u001b[32m   2373\u001b[39m \u001b[43m    \u001b[49m\u001b[43m*\u001b[49m\u001b[43m*\u001b[49m\u001b[43mkwargs\u001b[49m\u001b[43m,\u001b[49m\n\u001b[32m   2374\u001b[39m \u001b[43m\u001b[49m\u001b[43m)\u001b[49m\n\u001b[32m   2376\u001b[39m \u001b[38;5;28;01mreturn\u001b[39;00m new_mesh\n",
      "\u001b[36mFile \u001b[39m\u001b[32mc:\\Users\\pigwi\\miniconda3\\envs\\Stuart-Little\\Lib\\site-packages\\trimesh\\intersections.py:709\u001b[39m, in \u001b[36mslice_mesh_plane\u001b[39m\u001b[34m(mesh, plane_normal, plane_origin, face_index, cap, engine, **kwargs)\u001b[39m\n\u001b[32m    707\u001b[39m \u001b[38;5;28;01mfrom\u001b[39;00m\u001b[38;5;250m \u001b[39m\u001b[34;01m.\u001b[39;00m\u001b[34;01mbase\u001b[39;00m\u001b[38;5;250m \u001b[39m\u001b[38;5;28;01mimport\u001b[39;00m Trimesh\n\u001b[32m    708\u001b[39m \u001b[38;5;28;01mfrom\u001b[39;00m\u001b[38;5;250m \u001b[39m\u001b[34;01m.\u001b[39;00m\u001b[34;01mcreation\u001b[39;00m\u001b[38;5;250m \u001b[39m\u001b[38;5;28;01mimport\u001b[39;00m triangulate_polygon\n\u001b[32m--> \u001b[39m\u001b[32m709\u001b[39m \u001b[38;5;28;01mfrom\u001b[39;00m\u001b[38;5;250m \u001b[39m\u001b[34;01m.\u001b[39;00m\u001b[34;01mpath\u001b[39;00m\u001b[38;5;250m \u001b[39m\u001b[38;5;28;01mimport\u001b[39;00m polygons\n\u001b[32m    710\u001b[39m \u001b[38;5;28;01mfrom\u001b[39;00m\u001b[38;5;250m \u001b[39m\u001b[34;01m.\u001b[39;00m\u001b[34;01mvisual\u001b[39;00m\u001b[38;5;250m \u001b[39m\u001b[38;5;28;01mimport\u001b[39;00m TextureVisuals\n\u001b[32m    712\u001b[39m \u001b[38;5;66;03m# check input plane\u001b[39;00m\n",
      "\u001b[36mFile \u001b[39m\u001b[32mc:\\Users\\pigwi\\miniconda3\\envs\\Stuart-Little\\Lib\\site-packages\\trimesh\\path\\polygons.py:2\u001b[39m\n\u001b[32m      1\u001b[39m \u001b[38;5;28;01mimport\u001b[39;00m\u001b[38;5;250m \u001b[39m\u001b[34;01mnumpy\u001b[39;00m\u001b[38;5;250m \u001b[39m\u001b[38;5;28;01mas\u001b[39;00m\u001b[38;5;250m \u001b[39m\u001b[34;01mnp\u001b[39;00m\n\u001b[32m----> \u001b[39m\u001b[32m2\u001b[39m \u001b[38;5;28;01mfrom\u001b[39;00m\u001b[38;5;250m \u001b[39m\u001b[34;01mshapely\u001b[39;00m\u001b[38;5;250m \u001b[39m\u001b[38;5;28;01mimport\u001b[39;00m ops\n\u001b[32m      3\u001b[39m \u001b[38;5;28;01mfrom\u001b[39;00m\u001b[38;5;250m \u001b[39m\u001b[34;01mshapely\u001b[39;00m\u001b[34;01m.\u001b[39;00m\u001b[34;01mgeometry\u001b[39;00m\u001b[38;5;250m \u001b[39m\u001b[38;5;28;01mimport\u001b[39;00m Polygon\n\u001b[32m      5\u001b[39m \u001b[38;5;28;01mfrom\u001b[39;00m\u001b[38;5;250m \u001b[39m\u001b[34;01m.\u001b[39;00m\u001b[34;01m.\u001b[39;00m\u001b[38;5;250m \u001b[39m\u001b[38;5;28;01mimport\u001b[39;00m bounds, geometry, graph, grouping\n",
      "\u001b[31mModuleNotFoundError\u001b[39m: No module named 'shapely'"
     ]
    }
   ],
   "source": [
    "mesh = Open_Raw(315)\n",
    "\n",
    "mesh = mesh.slice_plane(np.array([0, 0, 0]), np.array([0, 0, 1]), cap=True)\n",
    "\n",
    "mesh.show()"
   ]
  },
  {
   "cell_type": "code",
   "execution_count": null,
   "id": "5652e1a1",
   "metadata": {},
   "outputs": [],
   "source": []
  }
 ],
 "metadata": {
  "kernelspec": {
   "display_name": "Stuart-Little",
   "language": "python",
   "name": "python3"
  },
  "language_info": {
   "codemirror_mode": {
    "name": "ipython",
    "version": 3
   },
   "file_extension": ".py",
   "mimetype": "text/x-python",
   "name": "python",
   "nbconvert_exporter": "python",
   "pygments_lexer": "ipython3",
   "version": "3.11.0"
  }
 },
 "nbformat": 4,
 "nbformat_minor": 5
}
